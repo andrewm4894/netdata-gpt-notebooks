{
 "cells": [
  {
   "cell_type": "code",
   "execution_count": 1,
   "metadata": {},
   "outputs": [],
   "source": [
    "# if running in colab uncomment the following line and run it to install the required packages\n",
    "#!pip install python-dotenv netdata-pandas openai"
   ]
  },
  {
   "cell_type": "code",
   "execution_count": 2,
   "metadata": {},
   "outputs": [],
   "source": [
    "import os\n",
    "from dotenv import load_dotenv\n",
    "import pandas as pd\n",
    "from netdata_pandas.data_cloud import get_data_cloud\n",
    "import openai\n",
    "import pprint as pp\n",
    "\n",
    "# load tokens from .env file\n",
    "load_dotenv()\n",
    "\n",
    "NETDATA_API_TOKEN = os.getenv('NETDATA_API_TOKEN')\n",
    "OPENAI_API_KEY = os.getenv('OPENAI_API_KEY')\n",
    "\n",
    "openai.api_key = OPENAI_API_KEY"
   ]
  },
  {
   "cell_type": "code",
   "execution_count": 3,
   "metadata": {},
   "outputs": [],
   "source": [
    "# inputs\n",
    "\n",
    "# netdata demo space https://app.netdata.cloud/spaces/netdata-demo/rooms/apache/overview\n",
    "space_id = 'ea93d7b8-0df6-45c0-b13d-1560996c89eb' # \n",
    "room_id = '9115ab73-317f-4a24-9233-f8d2993dbfc1'\n",
    "context = 'apache.requests'\n",
    "\n",
    "# last 10 minutes of data\n",
    "after = -60*10\n",
    "before = 0\n",
    "freq = '10s' # 10 seconds"
   ]
  },
  {
   "cell_type": "code",
   "execution_count": 4,
   "metadata": {},
   "outputs": [
    {
     "name": "stdout",
     "output_type": "stream",
     "text": [
      "(59, 1)\n"
     ]
    },
    {
     "data": {
      "text/html": [
       "<div>\n",
       "<style scoped>\n",
       "    .dataframe tbody tr th:only-of-type {\n",
       "        vertical-align: middle;\n",
       "    }\n",
       "\n",
       "    .dataframe tbody tr th {\n",
       "        vertical-align: top;\n",
       "    }\n",
       "\n",
       "    .dataframe thead th {\n",
       "        text-align: right;\n",
       "    }\n",
       "</style>\n",
       "<table border=\"1\" class=\"dataframe\">\n",
       "  <thead>\n",
       "    <tr style=\"text-align: right;\">\n",
       "      <th></th>\n",
       "      <th>requests</th>\n",
       "    </tr>\n",
       "    <tr>\n",
       "      <th>time</th>\n",
       "      <th></th>\n",
       "    </tr>\n",
       "  </thead>\n",
       "  <tbody>\n",
       "    <tr>\n",
       "      <th>2023-03-29 16:49:30</th>\n",
       "      <td>2595.51</td>\n",
       "    </tr>\n",
       "    <tr>\n",
       "      <th>2023-03-29 16:49:40</th>\n",
       "      <td>2028.89</td>\n",
       "    </tr>\n",
       "    <tr>\n",
       "      <th>2023-03-29 16:49:50</th>\n",
       "      <td>2.10</td>\n",
       "    </tr>\n",
       "    <tr>\n",
       "      <th>2023-03-29 16:50:00</th>\n",
       "      <td>2137.60</td>\n",
       "    </tr>\n",
       "    <tr>\n",
       "      <th>2023-03-29 16:50:10</th>\n",
       "      <td>747.05</td>\n",
       "    </tr>\n",
       "  </tbody>\n",
       "</table>\n",
       "</div>"
      ],
      "text/plain": [
       "                     requests\n",
       "time                         \n",
       "2023-03-29 16:49:30   2595.51\n",
       "2023-03-29 16:49:40   2028.89\n",
       "2023-03-29 16:49:50      2.10\n",
       "2023-03-29 16:50:00   2137.60\n",
       "2023-03-29 16:50:10    747.05"
      ]
     },
     "execution_count": 4,
     "metadata": {},
     "output_type": "execute_result"
    }
   ],
   "source": [
    "# get data from netdata cloud\n",
    "df = get_data_cloud(space_id, room_id, context, after, before, freq=freq)\n",
    "df = df.round(2) # round to 2 decimal places to save tokens\n",
    "print(df.shape)\n",
    "df.head()"
   ]
  },
  {
   "cell_type": "code",
   "execution_count": 5,
   "metadata": {},
   "outputs": [
    {
     "name": "stdout",
     "output_type": "stream",
     "text": [
      "\n",
      "You are an experienced SRE and sysadmin.\n",
      "\n",
      "You are monitoring an apache web server using Netdata Cloud.\n",
      "\n",
      "Below is the some apache metrics for this server from 2023-03-29 16:49:30 to 2023-03-29 16:59:10, aggregated to a 10s frequency.\n",
      "\n",
      "Does this server have a problem?\n",
      "\n",
      "Metrics data:\n",
      "                     requests\n",
      "time                         \n",
      "2023-03-29 16:49:30   2595.51\n",
      "2023-03-29 16:49:40   2028.89\n",
      "2023-03-29 16:49:50      2.10\n",
      "2023-03-29 16:50:00   2137.60\n",
      "2023-03-29 16:50:10    747.05\n",
      "2023-03-29 16:50:20   4223.25\n",
      "2023-03-29 16:50:30      2.00\n",
      "2023-03-29 16:50:40      2.00\n",
      "2023-03-29 16:50:50   1988.01\n",
      "2023-03-29 16:51:00   4967.10\n",
      "2023-03-29 16:51:10      2.10\n",
      "2023-03-29 16:51:20    344.81\n",
      "2023-03-29 16:51:30   4343.34\n",
      "2023-03-29 16:51:40    165.46\n",
      "2023-03-29 16:51:50      2.10\n",
      "2023-03-29 16:52:00   1616.83\n",
      "2023-03-29 16:52:10   1473.57\n",
      "2023-03-29 16:52:20      1.90\n",
      "2023-03-29 16:52:30   2998.40\n",
      "2023-03-29 16:52:40      1.90\n",
      "2023-03-29 16:52:50      3.06\n",
      "2023-03-29 16:53:00    415.74\n",
      "2023-03-29 16:53:10   1002.10\n",
      "2023-03-29 16:53:20   2550.00\n",
      "2023-03-29 16:53:30      2.00\n",
      "2023-03-29 16:53:40      1.90\n",
      "2023-03-29 16:53:50   1470.60\n",
      "2023-03-29 16:54:00    451.90\n",
      "2023-03-29 16:54:10      2.00\n",
      "2023-03-29 16:54:20    899.00\n",
      "2023-03-29 16:54:30      2.10\n",
      "2023-03-29 16:54:40   1064.30\n",
      "2023-03-29 16:54:50      2.00\n",
      "2023-03-29 16:55:00   2530.90\n",
      "2023-03-29 16:55:10   1904.00\n",
      "2023-03-29 16:55:20      2.10\n",
      "2023-03-29 16:55:30      1.90\n",
      "2023-03-29 16:55:40   3285.50\n",
      "2023-03-29 16:55:50    753.80\n",
      "2023-03-29 16:56:00   1325.40\n",
      "2023-03-29 16:56:10    398.10\n",
      "2023-03-29 16:56:20   2142.00\n",
      "2023-03-29 16:56:30    129.84\n",
      "2023-03-29 16:56:40   4055.16\n",
      "2023-03-29 16:56:50   1034.10\n",
      "2023-03-29 16:57:00   1613.00\n",
      "2023-03-29 16:57:10    258.30\n",
      "2023-03-29 16:57:20      2.00\n",
      "2023-03-29 16:57:30      2.00\n",
      "2023-03-29 16:57:40   2026.00\n",
      "2023-03-29 16:57:50      2.10\n",
      "2023-03-29 16:58:00   2228.00\n",
      "2023-03-29 16:58:10      2.00\n",
      "2023-03-29 16:58:20      2.00\n",
      "2023-03-29 16:58:30   1868.83\n",
      "2023-03-29 16:58:40   2515.82\n",
      "2023-03-29 16:58:50    935.35\n",
      "2023-03-29 16:59:00      2.00\n",
      "2023-03-29 16:59:10   1153.80\n",
      "\n"
     ]
    }
   ],
   "source": [
    "prompt = f\"\"\"\n",
    "You are an experienced SRE and sysadmin.\n",
    "\n",
    "You are monitoring an apache web server using Netdata Cloud.\n",
    "\n",
    "Below is the some apache metrics for this server from {df.index.min()} to {df.index.max()}, aggregated to a {freq} frequency.\n",
    "\n",
    "Does this server have a problem?\n",
    "\n",
    "Metrics data:\n",
    "{df.to_string(max_rows=len(df), max_cols=(len(df.columns)))}\n",
    "\"\"\"\n",
    "print(prompt)"
   ]
  },
  {
   "cell_type": "code",
   "execution_count": 6,
   "metadata": {},
   "outputs": [],
   "source": [
    "# build messages list to pass to openai\n",
    "messages=[\n",
    "    {\"role\": \"user\", \"content\": prompt}\n",
    "]"
   ]
  },
  {
   "cell_type": "code",
   "execution_count": 7,
   "metadata": {},
   "outputs": [],
   "source": [
    "# call openai api\n",
    "completion = openai.ChatCompletion.create(\n",
    "  model=\"gpt-3.5-turbo\",\n",
    "  messages=messages,\n",
    ")"
   ]
  },
  {
   "cell_type": "code",
   "execution_count": 9,
   "metadata": {},
   "outputs": [
    {
     "name": "stdout",
     "output_type": "stream",
     "text": [
      "It's hard to determine whether this server has a problem based on just the requests metric provided. However, we can make some observations:\n",
      "\n",
      "- There seem to be some spikes in traffic at certain points in time (e.g. 16:49:30 and 16:51:00).\n",
      "- There are also some periods of very low traffic (e.g. 16:49:50 and 16:50:30).\n",
      "- The overall request rate seems to vary quite a bit, with highs of over 4,900 requests per 10 seconds and lows of just 1 or 2 requests.\n",
      "\n",
      "To determine if the server has a problem, we would need to look at other metrics such as response times, error rates, CPU/memory usage, etc. It's also possible that this is normal behavior for the server depending on its usage patterns.\n"
     ]
    }
   ],
   "source": [
    "reply_content = completion.choices[0].message.content\n",
    "print(reply_content)"
   ]
  }
 ],
 "metadata": {
  "kernelspec": {
   "display_name": "venv",
   "language": "python",
   "name": "python3"
  },
  "language_info": {
   "codemirror_mode": {
    "name": "ipython",
    "version": 3
   },
   "file_extension": ".py",
   "mimetype": "text/x-python",
   "name": "python",
   "nbconvert_exporter": "python",
   "pygments_lexer": "ipython3",
   "version": "3.10.6"
  },
  "orig_nbformat": 4
 },
 "nbformat": 4,
 "nbformat_minor": 2
}
