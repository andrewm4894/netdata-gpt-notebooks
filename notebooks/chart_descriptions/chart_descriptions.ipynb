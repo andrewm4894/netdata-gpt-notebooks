{
 "cells": [
  {
   "attachments": {},
   "cell_type": "markdown",
   "metadata": {},
   "source": [
    "# Chart Descriptions"
   ]
  },
  {
   "attachments": {},
   "cell_type": "markdown",
   "metadata": {},
   "source": [
    "[![Open In Colab](https://colab.research.google.com/assets/colab-badge.svg)](https://colab.research.google.com/github/andrewm4894/netdata-gpt-notebooks/blob/main/notebooks/chart_descriptions/chart_descriptions.ipynb)"
   ]
  },
  {
   "cell_type": "code",
   "execution_count": 2984,
   "metadata": {},
   "outputs": [],
   "source": [
    "# if running in colab uncomment the following line and run it to install the required packages\n",
    "#!pip install python-dotenv netdata-pandas openai"
   ]
  },
  {
   "cell_type": "code",
   "execution_count": 2985,
   "metadata": {},
   "outputs": [],
   "source": [
    "import os\n",
    "from dotenv import load_dotenv\n",
    "import pandas as pd\n",
    "import numpy as np\n",
    "from netdata_pandas.data_cloud import get_data_cloud\n",
    "import openai\n",
    "import pprint as pp\n",
    "from urllib.parse import urlparse\n",
    "import requests\n",
    "import json\n",
    "from datetime import datetime\n",
    "\n",
    "# load tokens from .env file\n",
    "load_dotenv()\n",
    "\n",
    "NETDATA_API_TOKEN = os.getenv('NETDATA_API_TOKEN')\n",
    "OPENAI_API_KEY = os.getenv('OPENAI_API_KEY')\n",
    "\n",
    "openai.api_key = OPENAI_API_KEY"
   ]
  },
  {
   "cell_type": "code",
   "execution_count": 2986,
   "metadata": {},
   "outputs": [],
   "source": [
    "# inputs\n",
    "space_id = 'ea93d7b8-0df6-45c0-b13d-1560996c89eb' \n",
    "room_id = 'd8a4e0c5-7c79-4145-900e-83a9f06fcb6a'\n",
    "chart = None\n",
    "output_dir = 'output'\n",
    "\n",
    "now = datetime.now().strftime(\"%Y%m%d_%H%M%S\")"
   ]
  },
  {
   "cell_type": "code",
   "execution_count": 2987,
   "metadata": {},
   "outputs": [],
   "source": [
    "def get_charts_cloud(space_id, room_id, api_token=None, base_url='https://app.netdata.cloud', node_ids=[]):\n",
    "    \"\"\"Get charts from netdata cloud api.\n",
    "    \"\"\"\n",
    "    \n",
    "    if api_token is None:\n",
    "        api_token = os.getenv('NETDATA_API_TOKEN')\n",
    "    \n",
    "    base_url = 'https://app.netdata.cloud'\n",
    "    url = f'{base_url}/api/v2/spaces/{space_id}/rooms/{room_id}/charts'\n",
    "    headers = {'Accept': '*/*', 'Content-Type': 'application/json', 'Authorization': f'Bearer {api_token}'}\n",
    "    data = {\n",
    "        'filter': {\n",
    "            'nodeIDs': node_ids,\n",
    "        }\n",
    "    }\n",
    "    r = requests.post(url, headers=headers, data=json.dumps(data))\n",
    "    \n",
    "    if r.status_code != 200:\n",
    "        \n",
    "        print(f'Error: {r.status_code, r.text}')\n",
    "        return None\n",
    "    \n",
    "    else:\n",
    "            \n",
    "        return r.json()['results']\n",
    "\n",
    "\n",
    "charts = get_charts_cloud(space_id, room_id, api_token=NETDATA_API_TOKEN)"
   ]
  },
  {
   "cell_type": "code",
   "execution_count": 2988,
   "metadata": {},
   "outputs": [
    {
     "name": "stdout",
     "output_type": "stream",
     "text": [
      "httpcheck.status\n"
     ]
    }
   ],
   "source": [
    "if chart == None:\n",
    "    charts_list = list(charts.keys())\n",
    "    #charts_list = [c for c in charts_list if c.startswith('system.')]\n",
    "    charts_list = [c for c in charts_list if 'prometheus.' not in c]\n",
    "    charts_list = [c for c in charts_list if 'netdata.' not in c]\n",
    "    chart = np.random.choice(charts_list)\n",
    "\n",
    "print(chart)"
   ]
  },
  {
   "cell_type": "code",
   "execution_count": 2989,
   "metadata": {},
   "outputs": [
    {
     "name": "stdout",
     "output_type": "stream",
     "text": [
      "(13, 2)\n",
      "                     bad_content  success\n",
      "time                                     \n",
      "2023-04-03 16:20:57            1        2\n",
      "2023-04-03 16:21:00            1        2\n",
      "2023-04-03 16:21:03            1        2\n",
      "2023-04-03 16:21:06            1        2\n",
      "2023-04-03 16:21:09            1        2\n",
      "Index(['bad_content', 'success'], dtype='object')\n"
     ]
    }
   ],
   "source": [
    "df = get_data_cloud(space_id, room_id, chart)\n",
    "print(df.shape)\n",
    "print(df.head())\n",
    "\n",
    "dimensions = df.columns\n",
    "print(dimensions)"
   ]
  },
  {
   "cell_type": "code",
   "execution_count": 2990,
   "metadata": {},
   "outputs": [
    {
     "data": {
      "text/plain": [
       "{'id': 'httpcheck.status',\n",
       " 'title': 'HTTP Check Status',\n",
       " 'dimensions': ['bad_content', 'success'],\n",
       " 'units': 'boolean',\n",
       " 'family': 'status',\n",
       " 'context': 'httpcheck.status',\n",
       " 'chart_type': 'line',\n",
       " 'chart_labels': None}"
      ]
     },
     "execution_count": 2990,
     "metadata": {},
     "output_type": "execute_result"
    }
   ],
   "source": [
    "chart_json = {}\n",
    "chart_json['id'] = chart\n",
    "chart_json['title'] = charts[chart]['title']\n",
    "chart_json['dimensions'] = list(dimensions)\n",
    "chart_json['units'] = charts[chart]['units']\n",
    "chart_json['family'] = charts[chart]['family']\n",
    "chart_json['context'] = charts[chart]['context']\n",
    "chart_json['chart_type'] = charts[chart]['chartType']\n",
    "chart_json['chart_labels'] = charts[chart]['chartLabels']\n",
    "chart_json"
   ]
  },
  {
   "cell_type": "code",
   "execution_count": 2991,
   "metadata": {},
   "outputs": [
    {
     "name": "stdout",
     "output_type": "stream",
     "text": [
      "\n",
      "You are an experienced SRE and sysadmin.\n",
      "\n",
      "You are monitoring your infrastructure using Netdata Cloud.\n",
      "\n",
      "You are documenting individual charts and their dimensions to help other users.\n",
      "\n",
      "The chart_json object is available to you and follows the format below:\n",
      "\n",
      "```json\n",
      "{\n",
      "    \"id\": \"the chart id\",\n",
      "    \"title\": \"the chart title\",\n",
      "    \"dimensions\": \"a list of the dimensions\",\n",
      "    \"units\": \"the units of the chart\",\n",
      "    \"family\": \"the menu family of the chart\",\n",
      "    \"context\": \"context of the chat. it follows structure like <type>.<name> where <type> also impacts where in the menu the chart appears and so can give hints of what it might relate to\",\n",
      "    \"chart_type\": \"usually line or stacked or area - this is the type of chart\",\n",
      "    \"chart_labels\": \"some optional labels or tags for the chart that cone also sometimes be useful to help understand the chart\",\n",
      "}\n",
      "```\n",
      "\n",
      "Here is the individual chart_json object describing the `httpcheck.status` chart you are documenting:\n",
      "\n",
      "```json\n",
      "{'id': 'httpcheck.status', 'title': 'HTTP Check Status', 'dimensions': ['bad_content', 'success'], 'units': 'boolean', 'family': 'status', 'context': 'httpcheck.status', 'chart_type': 'line', 'chart_labels': None}\n",
      "```\n",
      "\n",
      "Can you write short, useful and educational description of the chart and its dimensions? \n",
      "\n",
      "Please follow a json format like this (the output needs to be valid json):\n",
      "\n",
      "```json\n",
      "{\n",
      "    \"chart_id\": \"httpcheck.status\",\n",
      "    \"chart_description\": \"<add description here>\",\n",
      "    \"dimension_descriptions\": [\n",
      "        {\n",
      "            \"<dimension name>\": \"<add dimension description here>\",\n",
      "            ...\n",
      "        }]\n",
      "}\n",
      "```\n",
      "\n"
     ]
    }
   ],
   "source": [
    "prompt = f\"\"\"\n",
    "You are an experienced SRE and sysadmin.\n",
    "\n",
    "You are monitoring your infrastructure using Netdata Cloud.\n",
    "\n",
    "You are documenting individual charts and their dimensions to help other users.\n",
    "\n",
    "The chart_json object is available to you and follows the format below:\n",
    "\n",
    "```json\n",
    "{{\n",
    "    \"id\": \"the chart id\",\n",
    "    \"title\": \"the chart title\",\n",
    "    \"dimensions\": \"a list of the dimensions\",\n",
    "    \"units\": \"the units of the chart\",\n",
    "    \"family\": \"the menu family of the chart\",\n",
    "    \"context\": \"context of the chat. it follows structure like <type>.<name> where <type> also impacts where in the menu the chart appears and so can give hints of what it might relate to\",\n",
    "    \"chart_type\": \"usually line or stacked or area - this is the type of chart\",\n",
    "    \"chart_labels\": \"some optional labels or tags for the chart that cone also sometimes be useful to help understand the chart\",\n",
    "}}\n",
    "```\n",
    "\n",
    "Here is the individual chart_json object describing the `{chart}` chart you are documenting:\n",
    "\n",
    "```json\n",
    "{chart_json}\n",
    "```\n",
    "\n",
    "Can you write short, useful and educational description of the chart and its dimensions? \n",
    "\n",
    "Please follow a json format like this (the output needs to be valid json):\n",
    "\n",
    "```json\n",
    "{{\n",
    "    \"chart_id\": \"{chart}\",\n",
    "    \"chart_description\": \"<add description here>\",\n",
    "    \"dimension_descriptions\": [\n",
    "        {{\n",
    "            \"<dimension name>\": \"<add dimension description here>\",\n",
    "            ...\n",
    "        }}]\n",
    "}}\n",
    "```\n",
    "\"\"\"\n",
    "print(prompt)"
   ]
  },
  {
   "cell_type": "code",
   "execution_count": 2992,
   "metadata": {},
   "outputs": [],
   "source": [
    "# build messages list to pass to openai\n",
    "messages=[\n",
    "    {\"role\": \"user\", \"content\": prompt}\n",
    "]"
   ]
  },
  {
   "cell_type": "code",
   "execution_count": 2993,
   "metadata": {},
   "outputs": [],
   "source": [
    "# call openai api\n",
    "completion = openai.ChatCompletion.create(\n",
    "  model=\"gpt-3.5-turbo\",\n",
    "  messages=messages,\n",
    ")"
   ]
  },
  {
   "cell_type": "code",
   "execution_count": 2994,
   "metadata": {},
   "outputs": [
    {
     "name": "stdout",
     "output_type": "stream",
     "text": [
      "{\n",
      "    \"chart_id\": \"httpcheck.status\",\n",
      "    \"chart_description\": \"The HTTP Check Status chart shows the status of the last HTTP health check. If the check is successful, it will display as True, if the check is unsuccessful, it will display as False. This chart allows you to monitor the health of your HTTP services.\",\n",
      "    \"dimension_descriptions\": [\n",
      "        {\n",
      "            \"bad_content\": \"This dimension shows if the HTTP health check found bad content on the page. If True, it means that the check found unexpected or incorrect content on the page.\",\n",
      "            \"success\": \"This dimension shows if the HTTP health check was successful. If True, it means that the check was able to connect to the web server and receive a response.\"\n",
      "        }\n",
      "    ]\n",
      "}\n"
     ]
    }
   ],
   "source": [
    "reply_content = completion.choices[0].message.content\n",
    "#pp.pprint(reply_content)\n",
    "reply_content = reply_content.replace('\",\\n        }]','\"\\n        }]')\n",
    "print(reply_content)"
   ]
  },
  {
   "cell_type": "code",
   "execution_count": 2995,
   "metadata": {},
   "outputs": [],
   "source": [
    "chart_description_json = json.loads(reply_content)"
   ]
  },
  {
   "cell_type": "code",
   "execution_count": 2996,
   "metadata": {},
   "outputs": [],
   "source": [
    "file_name_prompt = f'{chart}__{now}_PROMPT.txt'\n",
    "with open(f'{output_dir}/{file_name_prompt}', 'w') as f:\n",
    "    f.write(prompt)"
   ]
  },
  {
   "cell_type": "code",
   "execution_count": 2997,
   "metadata": {},
   "outputs": [],
   "source": [
    "file_name_result = f'{chart}__{now}_RESULT.json'\n",
    "with open(f'{output_dir}/{file_name_result}', 'w') as f:\n",
    "    json.dump(chart_description_json, f, indent=4)"
   ]
  }
 ],
 "metadata": {
  "kernelspec": {
   "display_name": "venv",
   "language": "python",
   "name": "python3"
  },
  "language_info": {
   "codemirror_mode": {
    "name": "ipython",
    "version": 3
   },
   "file_extension": ".py",
   "mimetype": "text/x-python",
   "name": "python",
   "nbconvert_exporter": "python",
   "pygments_lexer": "ipython3",
   "version": "3.10.6"
  },
  "orig_nbformat": 4
 },
 "nbformat": 4,
 "nbformat_minor": 2
}
