{
 "cells": [
  {
   "attachments": {},
   "cell_type": "markdown",
   "metadata": {},
   "source": [
    "# Chart Descriptions"
   ]
  },
  {
   "attachments": {},
   "cell_type": "markdown",
   "metadata": {},
   "source": [
    "[![Open In Colab](https://colab.research.google.com/assets/colab-badge.svg)](https://colab.research.google.com/github/andrewm4894/netdata-gpt-notebooks/blob/main/notebooks/chart_descriptions/chart_descriptions.ipynb)"
   ]
  },
  {
   "cell_type": "code",
   "execution_count": 187,
   "metadata": {},
   "outputs": [],
   "source": [
    "# if running in colab uncomment the following line and run it to install the required packages\n",
    "#!pip install python-dotenv netdata-pandas openai"
   ]
  },
  {
   "cell_type": "code",
   "execution_count": 188,
   "metadata": {},
   "outputs": [],
   "source": [
    "import os\n",
    "from dotenv import load_dotenv\n",
    "import pandas as pd\n",
    "import numpy as np\n",
    "from netdata_pandas.data_cloud import get_data_cloud\n",
    "import openai\n",
    "import pprint as pp\n",
    "from urllib.parse import urlparse\n",
    "import requests\n",
    "import json\n",
    "from datetime import datetime\n",
    "\n",
    "# load tokens from .env file\n",
    "load_dotenv()\n",
    "\n",
    "NETDATA_API_TOKEN = os.getenv('NETDATA_API_TOKEN')\n",
    "OPENAI_API_KEY = os.getenv('OPENAI_API_KEY')\n",
    "\n",
    "openai.api_key = OPENAI_API_KEY"
   ]
  },
  {
   "cell_type": "code",
   "execution_count": 189,
   "metadata": {},
   "outputs": [],
   "source": [
    "# inputs\n",
    "space_id = 'ea93d7b8-0df6-45c0-b13d-1560996c89eb' \n",
    "room_id = 'd8a4e0c5-7c79-4145-900e-83a9f06fcb6a'\n",
    "chart = None\n",
    "chart_startswith = 'docker.'\n",
    "output_dir = f'output/{chart_startswith}'\n",
    "now = datetime.now().strftime(\"%Y%m%d_%H%M%S\")"
   ]
  },
  {
   "cell_type": "code",
   "execution_count": 190,
   "metadata": {},
   "outputs": [],
   "source": [
    "def get_charts_cloud(space_id, room_id, api_token=None, base_url='https://app.netdata.cloud', node_ids=[]):\n",
    "    \"\"\"Get charts from netdata cloud api.\n",
    "    \"\"\"\n",
    "    \n",
    "    if api_token is None:\n",
    "        api_token = os.getenv('NETDATA_API_TOKEN')\n",
    "    \n",
    "    base_url = 'https://app.netdata.cloud'\n",
    "    url = f'{base_url}/api/v2/spaces/{space_id}/rooms/{room_id}/charts'\n",
    "    headers = {'Accept': '*/*', 'Content-Type': 'application/json', 'Authorization': f'Bearer {api_token}'}\n",
    "    data = {\n",
    "        'filter': {\n",
    "            'nodeIDs': node_ids,\n",
    "        }\n",
    "    }\n",
    "    r = requests.post(url, headers=headers, data=json.dumps(data))\n",
    "    \n",
    "    if r.status_code != 200:\n",
    "        \n",
    "        print(f'Error: {r.status_code, r.text}')\n",
    "        return None\n",
    "    \n",
    "    else:\n",
    "            \n",
    "        return r.json()['results']\n",
    "\n",
    "\n",
    "def make_prompt(chart, chart_json):\n",
    "    prompt = f\"\"\"\n",
    "    You are an experienced SRE and sysadmin.\n",
    "\n",
    "    You are monitoring your infrastructure using Netdata Cloud.\n",
    "\n",
    "    You are documenting individual charts and their dimensions to help other users.\n",
    "\n",
    "    The chart_json object is available to you and follows the format below:\n",
    "\n",
    "    ```json\n",
    "    {{\n",
    "        \"id\": \"the chart id\",\n",
    "        \"title\": \"the chart title\",\n",
    "        \"dimensions\": \"a list of the dimensions\",\n",
    "        \"units\": \"the units of the chart\",\n",
    "        \"family\": \"the menu family of the chart\",\n",
    "        \"context\": \"context of the chat. it follows structure like <type>.<name> where <type> also impacts where in the menu the chart appears and so can give hints of what it might relate to\",\n",
    "        \"chart_type\": \"usually line or stacked or area - this is the type of chart\",\n",
    "        \"chart_labels\": \"some optional labels or tags for the chart that cone also sometimes be useful to help understand the chart\",\n",
    "    }}\n",
    "    ```\n",
    "\n",
    "    Here is the individual chart_json object describing the `{chart}` chart you are documenting:\n",
    "\n",
    "    ```json\n",
    "    {chart_json}\n",
    "    ```\n",
    "\n",
    "    Can you write short, useful and educational description of the chart and its dimensions? \n",
    "\n",
    "    Please follow a json format like this (the output needs to be valid json):\n",
    "\n",
    "    ```json\n",
    "    {{\n",
    "        \"chart_id\": \"{chart}\",\n",
    "        \"chart_description\": \"<add description here>\",\n",
    "        \"dimension_descriptions\": [\n",
    "            {{\n",
    "                \"<dimension name>\": \"<add dimension description here>\",\n",
    "                ...\n",
    "            }}]\n",
    "    }}\n",
    "    ```\n",
    "    \"\"\"\n",
    "    \n",
    "    return prompt\n",
    "\n",
    "\n",
    "charts = get_charts_cloud(space_id, room_id, api_token=NETDATA_API_TOKEN)"
   ]
  },
  {
   "cell_type": "code",
   "execution_count": 191,
   "metadata": {},
   "outputs": [
    {
     "name": "stdout",
     "output_type": "stream",
     "text": [
      "dns_query.query_status\n",
      "['dns_query.query_status', 'dns_query.query_time']\n"
     ]
    }
   ],
   "source": [
    "if chart == None:\n",
    "    charts_list = list(set(list(charts.keys())))\n",
    "    #charts_list = [c for c in charts_list if c.startswith('system.')]\n",
    "    #charts_list = [c for c in charts_list if 'prometheus.' not in c]\n",
    "    #charts_list = [c for c in charts_list if 'netdata.' not in c]\n",
    "    charts_list = [c for c in charts_list if c.startswith(chart_startswith)]\n",
    "    charts_list = sorted(charts_list)\n",
    "    chart = np.random.choice(charts_list)\n",
    "\n",
    "print(chart)\n",
    "print(charts_list)"
   ]
  },
  {
   "cell_type": "code",
   "execution_count": 192,
   "metadata": {},
   "outputs": [
    {
     "name": "stdout",
     "output_type": "stream",
     "text": [
      "{'chart_id': 'dns_query.query_status', 'chart_description': 'The DNS Query Status chart provides information on the success of DNS queries made to the system. It tracks the number of successful and failed queries.', 'dimension_descriptions': [{'success': 'This dimension tracks the success rate of DNS queries. A value of 1 indicates a successful query, while a value of 0 indicates a failed query.'}]}\n",
      "{'chart_id': 'dns_query.query_time', 'chart_description': \"DNS Query Time chart displays the time taken by the DNS server to respond to a query in seconds. It helps to monitor the DNS server's performance and troubleshoot latency or slow queries.\", 'dimension_descriptions': [{'query_time': \"The time taken by the DNS server to respond to a client's query in seconds. It measures the round trip time between the client and server, including the time spent in transit and processing the query.\"}]}\n"
     ]
    }
   ],
   "source": [
    "if not os.path.exists(output_dir):\n",
    "   os.makedirs(output_dir)\n",
    "\n",
    "for chart in charts_list:\n",
    "    \n",
    "    #print(chart)\n",
    "    \n",
    "    try:\n",
    "        df = get_data_cloud(space_id, room_id, chart)\n",
    "    except:\n",
    "        next\n",
    "    #print(df.shape)\n",
    "    #print(df.head())\n",
    "\n",
    "    dimensions = df.columns\n",
    "    #print(dimensions)\n",
    "    \n",
    "    chart_json = {}\n",
    "    chart_json['id'] = chart\n",
    "    chart_json['title'] = charts[chart]['title']\n",
    "    chart_json['dimensions'] = list(dimensions)\n",
    "    chart_json['units'] = charts[chart]['units']\n",
    "    chart_json['family'] = charts[chart]['family']\n",
    "    chart_json['context'] = charts[chart]['context']\n",
    "    chart_json['chart_type'] = charts[chart]['chartType']\n",
    "    chart_json['chart_labels'] = charts[chart]['chartLabels']\n",
    "    \n",
    "    prompt = make_prompt(chart, chart_json)\n",
    "    \n",
    "    #print(prompt)\n",
    "    \n",
    "    # build messages list to pass to openai\n",
    "    messages=[\n",
    "        {\"role\": \"user\", \"content\": prompt}\n",
    "    ]\n",
    "    \n",
    "    # call openai api\n",
    "    completion = openai.ChatCompletion.create(\n",
    "    model=\"gpt-3.5-turbo\",\n",
    "    messages=messages,\n",
    "    )\n",
    "    \n",
    "    reply_content = completion.choices[0].message.content\n",
    "    #pp.pprint(reply_content)\n",
    "    reply_content = reply_content.replace('\",\\n        }]','\"\\n        }]').replace('\",\\n        }\\n    ]','\"\\n        }\\n    ]')\n",
    "    #print(reply_content)\n",
    "    \n",
    "    try:\n",
    "        chart_description_json = json.loads(reply_content)\n",
    "    except:\n",
    "        next\n",
    "    print(chart_description_json)\n",
    "    \n",
    "    file_name_prompt = f'{chart}__{now}_PROMPT.txt'\n",
    "    with open(f'{output_dir}/{file_name_prompt}', 'w') as f:\n",
    "        f.write(prompt)\n",
    "        \n",
    "    file_name_result = f'{chart}__{now}_RESULT.json'\n",
    "    with open(f'{output_dir}/{file_name_result}', 'w') as f:\n",
    "        json.dump(chart_description_json, f, indent=4)"
   ]
  },
  {
   "cell_type": "code",
   "execution_count": null,
   "metadata": {},
   "outputs": [],
   "source": []
  }
 ],
 "metadata": {
  "kernelspec": {
   "display_name": "venv",
   "language": "python",
   "name": "python3"
  },
  "language_info": {
   "codemirror_mode": {
    "name": "ipython",
    "version": 3
   },
   "file_extension": ".py",
   "mimetype": "text/x-python",
   "name": "python",
   "nbconvert_exporter": "python",
   "pygments_lexer": "ipython3",
   "version": "3.10.6"
  },
  "orig_nbformat": 4
 },
 "nbformat": 4,
 "nbformat_minor": 2
}
