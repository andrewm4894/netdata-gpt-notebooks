{
 "cells": [
  {
   "attachments": {},
   "cell_type": "markdown",
   "metadata": {},
   "source": [
    "# Chart Descriptions"
   ]
  },
  {
   "attachments": {},
   "cell_type": "markdown",
   "metadata": {},
   "source": [
    "[![Open In Colab](https://colab.research.google.com/assets/colab-badge.svg)](https://colab.research.google.com/github/andrewm4894/netdata-gpt-notebooks/blob/main/notebooks/chart_descriptions/chart_descriptions.ipynb)"
   ]
  },
  {
   "cell_type": "code",
   "execution_count": 132,
   "metadata": {},
   "outputs": [],
   "source": [
    "# if running in colab uncomment the following line and run it to install the required packages\n",
    "#!pip install python-dotenv netdata-pandas openai"
   ]
  },
  {
   "cell_type": "code",
   "execution_count": 133,
   "metadata": {},
   "outputs": [],
   "source": [
    "import os\n",
    "from dotenv import load_dotenv\n",
    "import pandas as pd\n",
    "import numpy as np\n",
    "from netdata_pandas.data_cloud import get_data_cloud\n",
    "import openai\n",
    "import pprint as pp\n",
    "from urllib.parse import urlparse\n",
    "import requests\n",
    "import json\n",
    "\n",
    "# load tokens from .env file\n",
    "load_dotenv()\n",
    "\n",
    "NETDATA_API_TOKEN = os.getenv('NETDATA_API_TOKEN')\n",
    "OPENAI_API_KEY = os.getenv('OPENAI_API_KEY')\n",
    "\n",
    "openai.api_key = OPENAI_API_KEY"
   ]
  },
  {
   "cell_type": "code",
   "execution_count": 134,
   "metadata": {},
   "outputs": [],
   "source": [
    "# inputs\n",
    "space_id = 'ea93d7b8-0df6-45c0-b13d-1560996c89eb' \n",
    "room_id = 'd8a4e0c5-7c79-4145-900e-83a9f06fcb6a'\n",
    "chart = None"
   ]
  },
  {
   "cell_type": "code",
   "execution_count": 135,
   "metadata": {},
   "outputs": [],
   "source": [
    "def get_charts_cloud(space_id, room_id, api_token=None, base_url='https://app.netdata.cloud', node_ids=[]):\n",
    "    \"\"\"Get charts from netdata cloud api.\n",
    "    \"\"\"\n",
    "    \n",
    "    if api_token is None:\n",
    "        api_token = os.getenv('NETDATA_API_TOKEN')\n",
    "    \n",
    "    base_url = 'https://app.netdata.cloud'\n",
    "    url = f'{base_url}/api/v2/spaces/{space_id}/rooms/{room_id}/charts'\n",
    "    headers = {'Accept': '*/*', 'Content-Type': 'application/json', 'Authorization': f'Bearer {api_token}'}\n",
    "    data = {\n",
    "        'filter': {\n",
    "            'nodeIDs': node_ids,\n",
    "        }\n",
    "    }\n",
    "    r = requests.post(url, headers=headers, data=json.dumps(data))\n",
    "    \n",
    "    if r.status_code != 200:\n",
    "        \n",
    "        print(f'Error: {r.status_code, r.text}')\n",
    "        return None\n",
    "    \n",
    "    else:\n",
    "            \n",
    "        return r.json()['results']\n",
    "\n",
    "\n",
    "charts = get_charts_cloud(space_id, room_id, api_token=NETDATA_API_TOKEN)"
   ]
  },
  {
   "cell_type": "code",
   "execution_count": 136,
   "metadata": {},
   "outputs": [
    {
     "name": "stdout",
     "output_type": "stream",
     "text": [
      "prometheus.aws-cluster-autoscaler.cluster_autoscaler_scale_down_in_cooldown\n"
     ]
    }
   ],
   "source": [
    "if chart == None:\n",
    "    chart = np.random.choice(list(charts.keys()))\n",
    "\n",
    "print(chart)"
   ]
  },
  {
   "cell_type": "code",
   "execution_count": 137,
   "metadata": {},
   "outputs": [
    {
     "name": "stdout",
     "output_type": "stream",
     "text": [
      "(8, 1)\n",
      "                     cluster_autoscaler_scale_down_in_cooldown\n",
      "time                                                          \n",
      "2023-04-01 20:53:57                                          0\n",
      "2023-04-01 20:54:00                                          0\n",
      "2023-04-01 20:54:03                                          0\n",
      "2023-04-01 20:54:06                                          0\n",
      "2023-04-01 20:54:09                                          0\n",
      "Index(['cluster_autoscaler_scale_down_in_cooldown'], dtype='object')\n"
     ]
    }
   ],
   "source": [
    "df = get_data_cloud(space_id, room_id, chart)\n",
    "print(df.shape)\n",
    "print(df.head())\n",
    "\n",
    "dimensions = df.columns\n",
    "print(dimensions)"
   ]
  },
  {
   "cell_type": "code",
   "execution_count": 138,
   "metadata": {},
   "outputs": [
    {
     "data": {
      "text/plain": [
       "{'id': 'prometheus.aws-cluster-autoscaler.cluster_autoscaler_scale_down_in_cooldown',\n",
       " 'title': '[ALPHA] Whether or not the scale down is in cooldown. 1 if its, 0 otherwise',\n",
       " 'dimensions': ['cluster_autoscaler_scale_down_in_cooldown'],\n",
       " 'units': 'cooldown',\n",
       " 'family': 'cluster_autoscaler',\n",
       " 'context': 'prometheus.aws-cluster-autoscaler.cluster_autoscaler_scale_down_in_cooldown',\n",
       " 'chart_type': 'line',\n",
       " 'chart_labels': None}"
      ]
     },
     "execution_count": 138,
     "metadata": {},
     "output_type": "execute_result"
    }
   ],
   "source": [
    "chart_json = {}\n",
    "chart_json['id'] = chart\n",
    "chart_json['title'] = charts[chart]['title']\n",
    "chart_json['dimensions'] = list(dimensions)\n",
    "chart_json['units'] = charts[chart]['units']\n",
    "chart_json['family'] = charts[chart]['family']\n",
    "chart_json['context'] = charts[chart]['context']\n",
    "chart_json['chart_type'] = charts[chart]['chartType']\n",
    "chart_json['chart_labels'] = charts[chart]['chartLabels']\n",
    "chart_json"
   ]
  },
  {
   "cell_type": "code",
   "execution_count": 139,
   "metadata": {},
   "outputs": [
    {
     "name": "stdout",
     "output_type": "stream",
     "text": [
      "\n",
      "You are an experienced SRE and sysadmin.\n",
      "\n",
      "You are monitoring your infrastructure using Netdata Cloud.\n",
      "\n",
      "You are documenting individual charts and their dimensions to help other users.\n",
      "\n",
      "THe chart_json object is available to you and follows the format below:\n",
      "\n",
      "```json\n",
      "{\n",
      "    \"id\": \"the chart id\",\n",
      "    \"title\": \"the chart title\",\n",
      "    \"dimensions\": \"a list of the dimensions\",\n",
      "    \"units\": \"the units of the chart\",\n",
      "    \"family\": \"the menu family of the chart\",\n",
      "    \"context\": \"context of the chat. it follows structure like <type>.<name> where <type> also impacts where in the menu the chart appears and so can give hints of what it might relate to\",\n",
      "    \"chart_type\": \"usually line or stacked or area - this is the type of chart\"\n",
      "}\n",
      "```\n",
      "\n",
      "Here is the individual chart_json object describing the chart you are documenting:\n",
      "\n",
      "```json\n",
      "{'id': 'prometheus.aws-cluster-autoscaler.cluster_autoscaler_scale_down_in_cooldown', 'title': '[ALPHA] Whether or not the scale down is in cooldown. 1 if its, 0 otherwise', 'dimensions': ['cluster_autoscaler_scale_down_in_cooldown'], 'units': 'cooldown', 'family': 'cluster_autoscaler', 'context': 'prometheus.aws-cluster-autoscaler.cluster_autoscaler_scale_down_in_cooldown', 'chart_type': 'line', 'chart_labels': None}\n",
      "```\n",
      "\n",
      "Can you write short, useful and educational description of the chart and its dimensions? \n",
      "\n",
      "Please follow format like this:\n",
      "\n",
      "```json\n",
      "{\n",
      "    \"chart_id\": \"prometheus.aws-cluster-autoscaler.cluster_autoscaler_scale_down_in_cooldown\",\n",
      "    \"chart_description\": \"<add description here>\",\n",
      "    \"dimension_descriptions\": [\n",
      "        {\n",
      "            \"<dimension name>\": \"<add dimension description here>\",\n",
      "            ...\n",
      "        }\n",
      "}\n",
      "```\n",
      "\n"
     ]
    }
   ],
   "source": [
    "prompt = f\"\"\"\n",
    "You are an experienced SRE and sysadmin.\n",
    "\n",
    "You are monitoring your infrastructure using Netdata Cloud.\n",
    "\n",
    "You are documenting individual charts and their dimensions to help other users.\n",
    "\n",
    "THe chart_json object is available to you and follows the format below:\n",
    "\n",
    "```json\n",
    "{{\n",
    "    \"id\": \"the chart id\",\n",
    "    \"title\": \"the chart title\",\n",
    "    \"dimensions\": \"a list of the dimensions\",\n",
    "    \"units\": \"the units of the chart\",\n",
    "    \"family\": \"the menu family of the chart\",\n",
    "    \"context\": \"context of the chat. it follows structure like <type>.<name> where <type> also impacts where in the menu the chart appears and so can give hints of what it might relate to\",\n",
    "    \"chart_type\": \"usually line or stacked or area - this is the type of chart\"\n",
    "}}\n",
    "```\n",
    "\n",
    "Here is the individual chart_json object describing the chart you are documenting:\n",
    "\n",
    "```json\n",
    "{chart_json}\n",
    "```\n",
    "\n",
    "Can you write short, useful and educational description of the chart and its dimensions? \n",
    "\n",
    "Please follow format like this:\n",
    "\n",
    "```json\n",
    "{{\n",
    "    \"chart_id\": \"{chart}\",\n",
    "    \"chart_description\": \"<add description here>\",\n",
    "    \"dimension_descriptions\": [\n",
    "        {{\n",
    "            \"<dimension name>\": \"<add dimension description here>\",\n",
    "            ...\n",
    "        }}\n",
    "}}\n",
    "```\n",
    "\"\"\"\n",
    "print(prompt)"
   ]
  },
  {
   "cell_type": "code",
   "execution_count": 140,
   "metadata": {},
   "outputs": [],
   "source": [
    "# build messages list to pass to openai\n",
    "messages=[\n",
    "    {\"role\": \"user\", \"content\": prompt}\n",
    "]"
   ]
  },
  {
   "cell_type": "code",
   "execution_count": 141,
   "metadata": {},
   "outputs": [],
   "source": [
    "# call openai api\n",
    "completion = openai.ChatCompletion.create(\n",
    "  model=\"gpt-3.5-turbo\",\n",
    "  messages=messages,\n",
    ")"
   ]
  },
  {
   "cell_type": "code",
   "execution_count": 142,
   "metadata": {},
   "outputs": [
    {
     "name": "stdout",
     "output_type": "stream",
     "text": [
      "{\n",
      "    \"chart_id\": \"prometheus.aws-cluster-autoscaler.cluster_autoscaler_scale_down_in_cooldown\",\n",
      "    \"chart_description\": \"This chart shows whether or not the AWS cluster autoscaler is in a scale down cooldown period. It displays a value of 1 if it is in cooldown, and 0 if it is not.\",\n",
      "    \"dimension_descriptions\": [\n",
      "        {\n",
      "            \"cluster_autoscaler_scale_down_in_cooldown\": \"This dimension represents whether or not the cluster autoscaler is in a scale down cooldown period. It is a binary value where 1 means it is in cooldown and 0 means it is not.\",\n",
      "        }\n",
      "    ]\n",
      "}\n"
     ]
    }
   ],
   "source": [
    "reply_content = completion.choices[0].message.content\n",
    "#pp.pprint(reply_content)\n",
    "print(reply_content)"
   ]
  }
 ],
 "metadata": {
  "kernelspec": {
   "display_name": "venv",
   "language": "python",
   "name": "python3"
  },
  "language_info": {
   "codemirror_mode": {
    "name": "ipython",
    "version": 3
   },
   "file_extension": ".py",
   "mimetype": "text/x-python",
   "name": "python",
   "nbconvert_exporter": "python",
   "pygments_lexer": "ipython3",
   "version": "3.10.7"
  },
  "orig_nbformat": 4
 },
 "nbformat": 4,
 "nbformat_minor": 2
}
