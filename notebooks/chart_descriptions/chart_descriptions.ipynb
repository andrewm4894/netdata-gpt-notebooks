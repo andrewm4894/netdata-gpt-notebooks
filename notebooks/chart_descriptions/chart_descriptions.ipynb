{
 "cells": [
  {
   "attachments": {},
   "cell_type": "markdown",
   "metadata": {},
   "source": [
    "# Chart Descriptions"
   ]
  },
  {
   "attachments": {},
   "cell_type": "markdown",
   "metadata": {},
   "source": [
    "[![Open In Colab](https://colab.research.google.com/assets/colab-badge.svg)](https://colab.research.google.com/github/andrewm4894/netdata-gpt-notebooks/blob/main/notebooks/chart_descriptions/chart_descriptions.ipynb)"
   ]
  },
  {
   "cell_type": "code",
   "execution_count": 223,
   "metadata": {},
   "outputs": [],
   "source": [
    "# if running in colab uncomment the following line and run it to install the required packages\n",
    "#!pip install python-dotenv netdata-pandas openai"
   ]
  },
  {
   "cell_type": "code",
   "execution_count": 224,
   "metadata": {},
   "outputs": [],
   "source": [
    "import os\n",
    "from dotenv import load_dotenv\n",
    "import pandas as pd\n",
    "import numpy as np\n",
    "from netdata_pandas.data_cloud import get_data_cloud\n",
    "import openai\n",
    "import pprint as pp\n",
    "from urllib.parse import urlparse\n",
    "import requests\n",
    "import json\n",
    "from datetime import datetime\n",
    "\n",
    "# load tokens from .env file\n",
    "load_dotenv()\n",
    "\n",
    "NETDATA_API_TOKEN = os.getenv('NETDATA_API_TOKEN')\n",
    "OPENAI_API_KEY = os.getenv('OPENAI_API_KEY')\n",
    "\n",
    "openai.api_key = OPENAI_API_KEY"
   ]
  },
  {
   "cell_type": "code",
   "execution_count": 225,
   "metadata": {},
   "outputs": [],
   "source": [
    "# inputs\n",
    "space_id = 'ea93d7b8-0df6-45c0-b13d-1560996c89eb' \n",
    "room_id = 'd8a4e0c5-7c79-4145-900e-83a9f06fcb6a'\n",
    "chart = None\n",
    "chart_startswith = 'ping.'\n",
    "output_dir = f'output/{chart_startswith}'\n",
    "now = datetime.now().strftime(\"%Y%m%d_%H%M%S\")"
   ]
  },
  {
   "cell_type": "code",
   "execution_count": 226,
   "metadata": {},
   "outputs": [],
   "source": [
    "def get_charts_cloud(space_id, room_id, api_token=None, base_url='https://app.netdata.cloud', node_ids=[]):\n",
    "    \"\"\"Get charts from netdata cloud api.\n",
    "    \"\"\"\n",
    "    \n",
    "    if api_token is None:\n",
    "        api_token = os.getenv('NETDATA_API_TOKEN')\n",
    "    \n",
    "    base_url = 'https://app.netdata.cloud'\n",
    "    url = f'{base_url}/api/v2/spaces/{space_id}/rooms/{room_id}/charts'\n",
    "    headers = {'Accept': '*/*', 'Content-Type': 'application/json', 'Authorization': f'Bearer {api_token}'}\n",
    "    data = {\n",
    "        'filter': {\n",
    "            'nodeIDs': node_ids,\n",
    "        }\n",
    "    }\n",
    "    r = requests.post(url, headers=headers, data=json.dumps(data))\n",
    "    \n",
    "    if r.status_code != 200:\n",
    "        \n",
    "        print(f'Error: {r.status_code, r.text}')\n",
    "        return None\n",
    "    \n",
    "    else:\n",
    "            \n",
    "        return r.json()['results']\n",
    "\n",
    "\n",
    "def make_prompt(chart, chart_json):\n",
    "    prompt = f\"\"\"\n",
    "    You are an experienced SRE and sysadmin.\n",
    "\n",
    "    You are monitoring your infrastructure using Netdata Cloud.\n",
    "\n",
    "    You are documenting individual charts and their dimensions to help other users.\n",
    "\n",
    "    The chart_json object is available to you and follows the format below:\n",
    "\n",
    "    ```json\n",
    "    {{\n",
    "        \"id\": \"the chart id\",\n",
    "        \"title\": \"the chart title\",\n",
    "        \"dimensions\": \"a list of the dimensions\",\n",
    "        \"units\": \"the units of the chart\",\n",
    "        \"family\": \"the menu family of the chart\",\n",
    "        \"context\": \"context of the chat. it follows structure like <type>.<name> where <type> also impacts where in the menu the chart appears and so can give hints of what it might relate to\",\n",
    "        \"chart_type\": \"usually line or stacked or area - this is the type of chart\",\n",
    "        \"chart_labels\": \"some optional labels or tags for the chart that cone also sometimes be useful to help understand the chart\",\n",
    "    }}\n",
    "    ```\n",
    "\n",
    "    Here is the individual chart_json object describing the `{chart}` chart you are documenting:\n",
    "\n",
    "    ```json\n",
    "    {chart_json}\n",
    "    ```\n",
    "\n",
    "    Can you write short, useful and educational description of the chart and its dimensions? \n",
    "\n",
    "    Please follow a json format like this (the output needs to be valid json):\n",
    "\n",
    "    ```json\n",
    "    {{\n",
    "        \"chart_id\": \"{chart}\",\n",
    "        \"chart_description\": \"<add description here>\",\n",
    "        \"dimension_descriptions\": [\n",
    "            {{\n",
    "                \"<dimension name>\": \"<add dimension description here>\",\n",
    "                ...\n",
    "            }}]\n",
    "    }}\n",
    "    ```\n",
    "    \"\"\"\n",
    "    \n",
    "    return prompt\n",
    "\n",
    "\n",
    "charts = get_charts_cloud(space_id, room_id, api_token=NETDATA_API_TOKEN)"
   ]
  },
  {
   "cell_type": "code",
   "execution_count": 227,
   "metadata": {},
   "outputs": [
    {
     "name": "stdout",
     "output_type": "stream",
     "text": [
      "ping.host_rtt\n",
      "['ping.host_packet_loss', 'ping.host_packets', 'ping.host_rtt', 'ping.host_std_dev_rtt']\n"
     ]
    }
   ],
   "source": [
    "if chart == None:\n",
    "    charts_list = list(set(list(charts.keys())))\n",
    "    #charts_list = [c for c in charts_list if c.startswith('system.')]\n",
    "    #charts_list = [c for c in charts_list if 'prometheus.' not in c]\n",
    "    #charts_list = [c for c in charts_list if 'netdata.' not in c]\n",
    "    charts_list = [c for c in charts_list if c.startswith(chart_startswith)]\n",
    "    charts_list = sorted(charts_list)\n",
    "    chart = np.random.choice(charts_list)\n",
    "\n",
    "print(chart)\n",
    "print(charts_list)"
   ]
  },
  {
   "cell_type": "code",
   "execution_count": 228,
   "metadata": {},
   "outputs": [
    {
     "name": "stdout",
     "output_type": "stream",
     "text": [
      "{'chart_id': 'ping.host_packet_loss', 'chart_description': 'This chart measures the packet loss percentage of pings to a specific host. High packet loss can indicate network congestion or connectivity issues.', 'dimension_descriptions': [{'loss': 'The percentage of packets lost in pings to the specified host.'}]}\n",
      "{'chart_id': 'ping.host_packets', 'chart_description': 'This chart monitors the number of transmitted and received packets for a ping request sent to a particular host.', 'dimension_descriptions': [{'received': 'This dimension tracks the number of packets received as a response to the ping request to the host.', 'sent': 'This dimension tracks the number of packets sent in the ping request to the host.'}]}\n",
      "{'chart_id': 'ping.host_rtt', 'chart_description': 'This chart displays the round-trip time of ping requests sent to a specified host. The round-trip time is the amount of time it takes for a ping to go to the host and back to the sender.', 'dimension_descriptions': [{'avg': 'The average round-trip time for pings sent to the host.', 'max': 'The maximum round-trip time for pings sent to the host.', 'min': 'The minimum round-trip time for pings sent to the host.'}]}\n",
      "{'chart_id': 'ping.host_std_dev_rtt', 'chart_description': 'The Ping round-trip time standard deviation chart shows the variation in the time it takes for packets to go from the local machine to a remote host and back. A high standard deviation indicates that packets are taking different paths and experiencing different levels of latency, which can impact network performance.', 'dimension_descriptions': [{'std_dev': 'The standard deviation dimension shows the statistical measure of the amount of variation or dispersion in the ping round-trip time. A high standard deviation value indicates that the ping times vary greatly, while a low value indicates that the ping times are relatively consistent.'}]}\n"
     ]
    }
   ],
   "source": [
    "if not os.path.exists(output_dir):\n",
    "   os.makedirs(output_dir)\n",
    "\n",
    "for chart in charts_list:\n",
    "    \n",
    "    #print(chart)\n",
    "    \n",
    "    try:\n",
    "        df = get_data_cloud(space_id, room_id, chart)\n",
    "    except:\n",
    "        next\n",
    "    #print(df.shape)\n",
    "    #print(df.head())\n",
    "\n",
    "    dimensions = df.columns\n",
    "    #print(dimensions)\n",
    "    \n",
    "    chart_json = {}\n",
    "    chart_json['id'] = chart\n",
    "    chart_json['title'] = charts[chart]['title']\n",
    "    chart_json['dimensions'] = list(dimensions)\n",
    "    chart_json['units'] = charts[chart]['units']\n",
    "    chart_json['family'] = charts[chart]['family']\n",
    "    chart_json['context'] = charts[chart]['context']\n",
    "    chart_json['chart_type'] = charts[chart]['chartType']\n",
    "    chart_json['chart_labels'] = charts[chart]['chartLabels']\n",
    "    \n",
    "    prompt = make_prompt(chart, chart_json)\n",
    "    \n",
    "    #print(prompt)\n",
    "    \n",
    "    # build messages list to pass to openai\n",
    "    messages=[\n",
    "        {\"role\": \"user\", \"content\": prompt}\n",
    "    ]\n",
    "    \n",
    "    # call openai api\n",
    "    completion = openai.ChatCompletion.create(\n",
    "    model=\"gpt-3.5-turbo\",\n",
    "    messages=messages,\n",
    "    )\n",
    "    \n",
    "    reply_content = completion.choices[0].message.content\n",
    "    #pp.pprint(reply_content)\n",
    "    reply_content = reply_content.replace('\",\\n        }]','\"\\n        }]').replace('\",\\n        }\\n    ]','\"\\n        }\\n    ]')\n",
    "    #print(reply_content)\n",
    "    \n",
    "    try:\n",
    "        chart_description_json = json.loads(reply_content)\n",
    "    except:\n",
    "        next\n",
    "    print(chart_description_json)\n",
    "    \n",
    "    file_name_prompt = f'{chart}__{now}_PROMPT.txt'\n",
    "    with open(f'{output_dir}/{file_name_prompt}', 'w') as f:\n",
    "        f.write(prompt)\n",
    "        \n",
    "    file_name_result = f'{chart}__{now}_RESULT.json'\n",
    "    with open(f'{output_dir}/{file_name_result}', 'w') as f:\n",
    "        json.dump(chart_description_json, f, indent=4)"
   ]
  },
  {
   "cell_type": "code",
   "execution_count": null,
   "metadata": {},
   "outputs": [],
   "source": []
  }
 ],
 "metadata": {
  "kernelspec": {
   "display_name": "venv",
   "language": "python",
   "name": "python3"
  },
  "language_info": {
   "codemirror_mode": {
    "name": "ipython",
    "version": 3
   },
   "file_extension": ".py",
   "mimetype": "text/x-python",
   "name": "python",
   "nbconvert_exporter": "python",
   "pygments_lexer": "ipython3",
   "version": "3.10.6"
  },
  "orig_nbformat": 4
 },
 "nbformat": 4,
 "nbformat_minor": 2
}
