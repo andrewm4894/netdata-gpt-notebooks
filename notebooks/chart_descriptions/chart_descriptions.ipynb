{
 "cells": [
  {
   "attachments": {},
   "cell_type": "markdown",
   "metadata": {},
   "source": [
    "# Chart Descriptions"
   ]
  },
  {
   "attachments": {},
   "cell_type": "markdown",
   "metadata": {},
   "source": [
    "[![Open In Colab](https://colab.research.google.com/assets/colab-badge.svg)](https://colab.research.google.com/github/andrewm4894/netdata-gpt-notebooks/blob/main/notebooks/chart_descriptions/chart_descriptions.ipynb)"
   ]
  },
  {
   "cell_type": "code",
   "execution_count": 121,
   "metadata": {},
   "outputs": [],
   "source": [
    "# if running in colab uncomment the following line and run it to install the required packages\n",
    "#!pip install python-dotenv netdata-pandas openai"
   ]
  },
  {
   "cell_type": "code",
   "execution_count": 122,
   "metadata": {},
   "outputs": [],
   "source": [
    "import os\n",
    "from dotenv import load_dotenv\n",
    "import pandas as pd\n",
    "import numpy as np\n",
    "from netdata_pandas.data_cloud import get_data_cloud\n",
    "import openai\n",
    "import pprint as pp\n",
    "from urllib.parse import urlparse\n",
    "import requests\n",
    "import json\n",
    "\n",
    "# load tokens from .env file\n",
    "load_dotenv()\n",
    "\n",
    "NETDATA_API_TOKEN = os.getenv('NETDATA_API_TOKEN')\n",
    "OPENAI_API_KEY = os.getenv('OPENAI_API_KEY')\n",
    "\n",
    "openai.api_key = OPENAI_API_KEY"
   ]
  },
  {
   "cell_type": "code",
   "execution_count": 123,
   "metadata": {},
   "outputs": [],
   "source": [
    "# inputs\n",
    "space_id = 'ea93d7b8-0df6-45c0-b13d-1560996c89eb' \n",
    "room_id = 'd8a4e0c5-7c79-4145-900e-83a9f06fcb6a'\n",
    "chart = None"
   ]
  },
  {
   "cell_type": "code",
   "execution_count": 124,
   "metadata": {},
   "outputs": [],
   "source": [
    "def get_charts_cloud(space_id, room_id, api_token=None, base_url='https://app.netdata.cloud', node_ids=[]):\n",
    "    \"\"\"Get charts from netdata cloud api.\n",
    "    \"\"\"\n",
    "    \n",
    "    if api_token is None:\n",
    "        api_token = os.getenv('NETDATA_API_TOKEN')\n",
    "    \n",
    "    base_url = 'https://app.netdata.cloud'\n",
    "    url = f'{base_url}/api/v2/spaces/{space_id}/rooms/{room_id}/charts'\n",
    "    headers = {'Accept': '*/*', 'Content-Type': 'application/json', 'Authorization': f'Bearer {api_token}'}\n",
    "    data = {\n",
    "        'filter': {\n",
    "            'nodeIDs': node_ids,\n",
    "        }\n",
    "    }\n",
    "    r = requests.post(url, headers=headers, data=json.dumps(data))\n",
    "    \n",
    "    if r.status_code != 200:\n",
    "        \n",
    "        print(f'Error: {r.status_code, r.text}')\n",
    "        return None\n",
    "    \n",
    "    else:\n",
    "            \n",
    "        return r.json()['results']\n",
    "\n",
    "\n",
    "charts = get_charts_cloud(space_id, room_id, api_token=NETDATA_API_TOKEN)"
   ]
  },
  {
   "cell_type": "code",
   "execution_count": 125,
   "metadata": {},
   "outputs": [
    {
     "name": "stdout",
     "output_type": "stream",
     "text": [
      "windows.processes_cpu_utilization\n"
     ]
    }
   ],
   "source": [
    "if chart == None:\n",
    "    chart = np.random.choice(list(charts.keys()))\n",
    "\n",
    "print(chart)"
   ]
  },
  {
   "cell_type": "code",
   "execution_count": 126,
   "metadata": {},
   "outputs": [
    {
     "name": "stdout",
     "output_type": "stream",
     "text": [
      "(13, 11)\n",
      "                      LogonUI   MsMpEng  System  WmiPrvSE  conhost  csrss  \\\n",
      "time                                                                        \n",
      "2023-04-01 20:51:57  0.000000  0.151436     0.0  0.320015      0.0    0.0   \n",
      "2023-04-01 20:52:00  0.000000  0.000000     0.0  0.320176      0.0    0.0   \n",
      "2023-04-01 20:52:03  0.000000  0.000000     0.0  0.249129      0.0    0.0   \n",
      "2023-04-01 20:52:06  0.022827  0.000000     0.0  0.183554      0.0    0.0   \n",
      "2023-04-01 20:52:09  0.091310  0.000000     0.0  0.128924      0.0    0.0   \n",
      "\n",
      "                        lsass  services  ssm-agent-worker   svchost  \\\n",
      "time                                                                  \n",
      "2023-04-01 20:51:57  0.151436  0.181467          0.174290  1.886459   \n",
      "2023-04-01 20:52:00  0.000000  0.114269          0.114269  3.027583   \n",
      "2023-04-01 20:52:03  0.000000  0.230230          0.157146  3.042908   \n",
      "2023-04-01 20:52:06  0.000000  0.285668          0.148585  2.651562   \n",
      "2023-04-01 20:52:09  0.000000  0.220062          0.037146  1.446871   \n",
      "\n",
      "                     windows_exporter  \n",
      "time                                   \n",
      "2023-04-01 20:51:57          3.463518  \n",
      "2023-04-01 20:52:00          4.687284  \n",
      "2023-04-01 20:52:03          5.267182  \n",
      "2023-04-01 20:52:06          5.461014  \n",
      "2023-04-01 20:52:09          4.882713  \n",
      "Index(['LogonUI', 'MsMpEng', 'System', 'WmiPrvSE', 'conhost', 'csrss', 'lsass',\n",
      "       'services', 'ssm-agent-worker', 'svchost', 'windows_exporter'],\n",
      "      dtype='object')\n"
     ]
    }
   ],
   "source": [
    "df = get_data_cloud(space_id, room_id, chart)\n",
    "print(df.shape)\n",
    "print(df.head())\n",
    "\n",
    "dimensions = df.columns\n",
    "print(dimensions)"
   ]
  },
  {
   "cell_type": "code",
   "execution_count": 127,
   "metadata": {},
   "outputs": [
    {
     "data": {
      "text/plain": [
       "{'id': 'windows.processes_cpu_utilization',\n",
       " 'title': 'CPU usage (100% = 1 core)',\n",
       " 'dimensions': ['LogonUI',\n",
       "  'MsMpEng',\n",
       "  'System',\n",
       "  'WmiPrvSE',\n",
       "  'conhost',\n",
       "  'csrss',\n",
       "  'lsass',\n",
       "  'services',\n",
       "  'ssm-agent-worker',\n",
       "  'svchost',\n",
       "  'windows_exporter'],\n",
       " 'units': 'percentage',\n",
       " 'family': 'processes',\n",
       " 'context': 'windows.processes_cpu_utilization',\n",
       " 'chart_type': 'stacked',\n",
       " 'chart_labels': None}"
      ]
     },
     "execution_count": 127,
     "metadata": {},
     "output_type": "execute_result"
    }
   ],
   "source": [
    "chart_json = {}\n",
    "chart_json['id'] = chart\n",
    "chart_json['title'] = charts[chart]['title']\n",
    "chart_json['dimensions'] = list(dimensions)\n",
    "chart_json['units'] = charts[chart]['units']\n",
    "chart_json['family'] = charts[chart]['family']\n",
    "chart_json['context'] = charts[chart]['context']\n",
    "chart_json['chart_type'] = charts[chart]['chartType']\n",
    "chart_json['chart_labels'] = charts[chart]['chartLabels']\n",
    "chart_json"
   ]
  },
  {
   "cell_type": "code",
   "execution_count": 128,
   "metadata": {},
   "outputs": [
    {
     "name": "stdout",
     "output_type": "stream",
     "text": [
      "\n",
      "You are an experienced SRE and sysadmin.\n",
      "\n",
      "You are monitoring your infrastructure using Netdata Cloud.\n",
      "\n",
      "You are documenting individual charts and their dimensions to help other users.\n",
      "\n",
      "THe chart_json object is available to you and follows the format below:\n",
      "\n",
      "```json\n",
      "{\n",
      "    \"id\": \"the chart id\",\n",
      "    \"title\": \"the chart title\",\n",
      "    \"dimensions\": \"a list of the dimensions\",\n",
      "    \"units\": \"the units of the chart\",\n",
      "    \"family\": \"the menu family of the chart\",\n",
      "    \"context\": \"context of the chat. it follows structure like <type>.<name> where <type> also impacts where in the menu the chart appears and so can give hints of what it might relate to\",\n",
      "    \"chart_type\": \"usually line or stacked or area - this is the type of chart\"\n",
      "}\n",
      "```\n",
      "\n",
      "Here is the individual chart_json object describing the chart you are documenting:\n",
      "\n",
      "```json\n",
      "{'id': 'windows.processes_cpu_utilization', 'title': 'CPU usage (100% = 1 core)', 'dimensions': ['LogonUI', 'MsMpEng', 'System', 'WmiPrvSE', 'conhost', 'csrss', 'lsass', 'services', 'ssm-agent-worker', 'svchost', 'windows_exporter'], 'units': 'percentage', 'family': 'processes', 'context': 'windows.processes_cpu_utilization', 'chart_type': 'stacked', 'chart_labels': None}\n",
      "```\n",
      "\n",
      "Can you write short, useful and educational description of the chart and its dimensions? \n",
      "\n",
      "Please follow format like this:\n",
      "\n",
      "```json\n",
      "{\n",
      "    \"chart_id\": \"windows.processes_cpu_utilization\",\n",
      "    \"chart_description\": \"<add description here>\",\n",
      "    \"dimension_descriptions\": [\n",
      "        {\n",
      "            \"<dimension name>\": \"<add dimension description here>\",\n",
      "            ...\n",
      "        }\n",
      "}\n",
      "```\n",
      "\n"
     ]
    }
   ],
   "source": [
    "prompt = f\"\"\"\n",
    "You are an experienced SRE and sysadmin.\n",
    "\n",
    "You are monitoring your infrastructure using Netdata Cloud.\n",
    "\n",
    "You are documenting individual charts and their dimensions to help other users.\n",
    "\n",
    "THe chart_json object is available to you and follows the format below:\n",
    "\n",
    "```json\n",
    "{{\n",
    "    \"id\": \"the chart id\",\n",
    "    \"title\": \"the chart title\",\n",
    "    \"dimensions\": \"a list of the dimensions\",\n",
    "    \"units\": \"the units of the chart\",\n",
    "    \"family\": \"the menu family of the chart\",\n",
    "    \"context\": \"context of the chat. it follows structure like <type>.<name> where <type> also impacts where in the menu the chart appears and so can give hints of what it might relate to\",\n",
    "    \"chart_type\": \"usually line or stacked or area - this is the type of chart\"\n",
    "}}\n",
    "```\n",
    "\n",
    "Here is the individual chart_json object describing the chart you are documenting:\n",
    "\n",
    "```json\n",
    "{chart_json}\n",
    "```\n",
    "\n",
    "Can you write short, useful and educational description of the chart and its dimensions? \n",
    "\n",
    "Please follow format like this:\n",
    "\n",
    "```json\n",
    "{{\n",
    "    \"chart_id\": \"{chart}\",\n",
    "    \"chart_description\": \"<add description here>\",\n",
    "    \"dimension_descriptions\": [\n",
    "        {{\n",
    "            \"<dimension name>\": \"<add dimension description here>\",\n",
    "            ...\n",
    "        }}\n",
    "}}\n",
    "```\n",
    "\"\"\"\n",
    "print(prompt)"
   ]
  },
  {
   "cell_type": "code",
   "execution_count": 129,
   "metadata": {},
   "outputs": [],
   "source": [
    "# build messages list to pass to openai\n",
    "messages=[\n",
    "    {\"role\": \"user\", \"content\": prompt}\n",
    "]"
   ]
  },
  {
   "cell_type": "code",
   "execution_count": 130,
   "metadata": {},
   "outputs": [],
   "source": [
    "# call openai api\n",
    "completion = openai.ChatCompletion.create(\n",
    "  model=\"gpt-3.5-turbo\",\n",
    "  messages=messages,\n",
    ")"
   ]
  },
  {
   "cell_type": "code",
   "execution_count": 131,
   "metadata": {},
   "outputs": [
    {
     "name": "stdout",
     "output_type": "stream",
     "text": [
      "{\n",
      "    \"chart_id\": \"windows.processes_cpu_utilization\",\n",
      "    \"chart_description\": \"This chart displays the CPU usage of processes running on a Windows system. The chart is stacked, allowing you to see the CPU usage of individual processes as well as the total CPU usage.\",\n",
      "    \"dimension_descriptions\": [\n",
      "        {\n",
      "            \"LogonUI\": \"The process that handles user authentication and login on Windows systems.\",\n",
      "            \"MsMpEng\": \"Microsoft Security Essentials antivirus software process.\",\n",
      "            \"System\": \"The central operating system kernel process.\",\n",
      "            \"WmiPrvSE\": \"Windows Management Instrumentation Provider Service used by various system components.\",\n",
      "            \"conhost\": \"Console Host process, responsible for handling command prompt windows.\",\n",
      "            \"csrss\": \"Client/Server Runtime Subsystem process that manages system windows and console windows.\",\n",
      "            \"lsass\": \"Local Security Authority Subsystem Service process that manages security policies and authentication requests.\",\n",
      "            \"services\": \"The Service Control Manager process that manages Windows services.\",\n",
      "            \"ssm-agent-worker\": \"Amazon SSM agent worker process for managing EC2 instances.\",\n",
      "            \"svchost\": \"A host process for Windows services.\",\n",
      "            \"windows_exporter\": \"Prometheus exporter for Windows performance counters.\"\n",
      "        }\n",
      "    ]\n",
      "}\n",
      "\n",
      "This chart provides insight into which processes are using the most CPU on a Windows system. By identifying these high CPU usage processes, users can investigate potential performance issues and take action to optimize their system. The dimensions represent the different processes running on the system, and the chart is stacked to provide a clear picture of how CPU usage is distributed among them.\n"
     ]
    }
   ],
   "source": [
    "reply_content = completion.choices[0].message.content\n",
    "#pp.pprint(reply_content)\n",
    "print(reply_content)"
   ]
  }
 ],
 "metadata": {
  "kernelspec": {
   "display_name": "venv",
   "language": "python",
   "name": "python3"
  },
  "language_info": {
   "codemirror_mode": {
    "name": "ipython",
    "version": 3
   },
   "file_extension": ".py",
   "mimetype": "text/x-python",
   "name": "python",
   "nbconvert_exporter": "python",
   "pygments_lexer": "ipython3",
   "version": "3.10.7"
  },
  "orig_nbformat": 4
 },
 "nbformat": 4,
 "nbformat_minor": 2
}
